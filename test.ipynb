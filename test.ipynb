{
 "cells": [
  {
   "cell_type": "code",
   "execution_count": 1,
   "id": "496a4ae2",
   "metadata": {},
   "outputs": [
    {
     "name": "stdout",
     "output_type": "stream",
     "text": [
      "(3, 5) (3, 5)\n",
      "X =\n",
      " [[0.   0.25 0.5  0.75 1.  ]\n",
      " [0.   0.25 0.5  0.75 1.  ]\n",
      " [0.   0.25 0.5  0.75 1.  ]]\n",
      "Y =\n",
      " [[0. 0. 0. 0. 0.]\n",
      " [1. 1. 1. 1. 1.]\n",
      " [2. 2. 2. 2. 2.]]\n",
      "(5, 3) (5, 3)\n"
     ]
    }
   ],
   "source": [
    "import numpy as np\n",
    "\n",
    "# 定义一维坐标\n",
    "x = np.linspace(0, 1, 5)   # [0.   0.25 0.5  0.75 1.  ]\n",
    "y = np.linspace(0, 2, 3)   # [0. 1. 2. ]\n",
    "\n",
    "# 默认 indexing='xy'\n",
    "X, Y = np.meshgrid(x, y)\n",
    "print(X.shape, Y.shape)\n",
    "# (3, 5) (3, 5)\n",
    "\n",
    "print(\"X =\\n\", X)\n",
    "# [[0.   0.25 0.5  0.75 1.  ]\n",
    "#  [0.   0.25 0.5  0.75 1.  ]\n",
    "#  [0.   0.25 0.5  0.75 1.  ]]\n",
    "\n",
    "print(\"Y =\\n\", Y)\n",
    "# [[0. 0. 0. 0. 0. ]\n",
    "#  [1. 1. 1. 1. 1. ]\n",
    "#  [2. 2. 2. 2. 2. ]]\n",
    "\n",
    "\n",
    "# 如果想要矩阵索引风格，使用 indexing='ij'\n",
    "Xi, Yi = np.meshgrid(x, y, indexing='ij')\n",
    "print(Xi.shape, Yi.shape)\n",
    "# (5, 3) (5, 3)\n"
   ]
  },
  {
   "cell_type": "code",
   "execution_count": null,
   "id": "9ff43179",
   "metadata": {},
   "outputs": [],
   "source": []
  }
 ],
 "metadata": {
  "kernelspec": {
   "display_name": "base",
   "language": "python",
   "name": "python3"
  },
  "language_info": {
   "codemirror_mode": {
    "name": "ipython",
    "version": 3
   },
   "file_extension": ".py",
   "mimetype": "text/x-python",
   "name": "python",
   "nbconvert_exporter": "python",
   "pygments_lexer": "ipython3",
   "version": "3.12.4"
  }
 },
 "nbformat": 4,
 "nbformat_minor": 5
}
