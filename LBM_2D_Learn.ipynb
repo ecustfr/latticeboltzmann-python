{
 "cells": [
  {
   "cell_type": "code",
   "execution_count": 1,
   "id": "06e3a99e",
   "metadata": {},
   "outputs": [],
   "source": [
    "import matplotlib.pyplot as plt\n",
    "import numpy as np"
   ]
  },
  {
   "cell_type": "code",
   "execution_count": null,
   "id": "7c9ae166",
   "metadata": {},
   "outputs": [],
   "source": [
    "\n",
    "# 做一个方腔流\n",
    "Nx   = 100\n",
    "Ny   = 100\n",
    "rho0 = 100 # 为什么平均密度是100\n",
    "tau  = 0.6 # 松弛时间\n",
    "Nt   = 10000 # 迭代次数\n",
    "\n",
    "plotRealTime = True\n",
    "\n",
    "#Lattice speeds / weights\n",
    "NL = 9\n",
    "\n",
    "F = np.zeros((Nx, Ny, NL)) # 速度分布函数\n",
    "\n",
    "rho0 = 1 #初始密度\n",
    "u0 = 0.1 #初始速度\n",
    "\n",
    "niu = 0.01 #\n",
    "\n",
    "Re = u0*Ny/niu #雷诺数\n",
    "\n",
    "Ntstep = 1e4\n",
    "\n",
    "w = np.array([4/9] + [1/9]*4 + [1/36]*4) #权重\n",
    "cx = np.array([0, 1, 0, -1, 0, 1, -1, -1, 1]) #速度分量\n",
    "cy = np.array([0, 0, 1, 0, -1, 1, 1, -1, -1]) #速度分量\n",
    "\n",
    "rho = np.ones((Nx, Ny)) * rho0 #密度分布函数\n",
    "\n",
    "u = np.zeros((Nx, Ny)) #x 上的速度分布函数\n",
    "v = np.zeros((Nx, Ny)) #y 上的速度分布函数\n",
    "\n",
    "\n",
    "u[:,Nx] = u0 #初始速度分布函数\n",
    "u[0,0] = 0 # 这一步会影响吗\n",
    "\n",
    "omega = 1/(3*tau + 0.5) #松弛时间\n",
    "\n",
    "cs  = 1/np.sqrt(3) #声速\n",
    "cs2 = cs**2 #声速平方\n",
    "for t in range(Ntstep): \n",
    "\n",
    "    # 先进行碰撞\n",
    "    for i in range(NL):\n",
    "        cu = (cx[i]*u + cy[i]*v) #速度分布函数\n",
    "        feq = rho * w[i] * (1 + cu/cs2 + cu**2/(2*cs2^2) - (u**2 + v**2)/(2*cs2) ) #平衡分布函数\n",
    "        F[:,:,i] = (1 - omega) * F[:,:,i] + (omega) * feq #碰撞\n",
    "\n",
    "\n",
    "    # 进行迁移\n",
    "    # 联系迁移和边界条件反射同时理解\n",
    "    F = Streaming(F) #迁移函数\n",
    "\n",
    "    # 进行边界条件处理\n"
   ]
  },
  {
   "cell_type": "code",
   "execution_count": null,
   "id": "220c7321",
   "metadata": {},
   "outputs": [
    {
     "data": {
      "text/plain": [
       "array([[ 0,  0,  0, ...,  0,  0,  0],\n",
       "       [ 1,  1,  1, ...,  1,  1,  1],\n",
       "       [ 2,  2,  2, ...,  2,  2,  2],\n",
       "       ...,\n",
       "       [97, 97, 97, ..., 97, 97, 97],\n",
       "       [98, 98, 98, ..., 98, 98, 98],\n",
       "       [99, 99, 99, ..., 99, 99, 99]])"
      ]
     },
     "execution_count": 8,
     "metadata": {},
     "output_type": "execute_result"
    }
   ],
   "source": [
    "def Streaming( F ,NL,cx,cy) -> np.ndarray:\n",
    "    # 尝试写一个笨拙的迁移操作\n",
    "    # 要额外处理边界的部分\n",
    "    for i in range(NL):\n",
    "        F[1:,:,1]     = F[0:-1:1,:,1] # 没有对边界进行额外处理\n",
    "        F[:,1:, 2]    = F[:,0:-1:1,2]  \n",
    "        F[0:-1:1,:,3] = F[1:,:,3] \n",
    "        F[:,0:-1:1,4] = F[:,1:,4]\n",
    "        F[1:,1:,5]    = F[0:-1: ,0:-1 ,5]\n",
    "        F[:,:, 6] = F[:,:,6]\n",
    "        F[0:-1:1,:,7] = F[1:,:,7]\n",
    "        F[:,:, 8] = F[:,:,8]\n",
    "\n",
    "\n",
    "    return F\n",
    "def BoundaryCondition(F, NL):\n",
    "    # 处理边界条件\n",
    "    \n",
    "    F[0,:,1] = F[0,:,3]    \n",
    "    F[0,:,5] = F[0,:,7] \n",
    "    F[0,:,8] = F[0,:,6]\n",
    "\n",
    "    F[-1,:,3] = F[-1,:,1] \n",
    "    F[-1,:,7] = F[-1,:,5]\n",
    "    F[-1,:,6] = F[-1,:,8]\n",
    "\n",
    "    F[:,0,2] = F[:,0,4]\n",
    "    F[:,0,5] = F[:,0,7]\n",
    "    F[:,0,6] = F[:,0,8]\n",
    "\n",
    "    # slide 边界条件\n",
    "    rhon = F[ 1:-1:1, -1, 0]  + F[ 1:-1:1 ,-1 ,1] + \n",
    "\n",
    "    return F\n",
    "\n",
    "\n"
   ]
  },
  {
   "cell_type": "code",
   "execution_count": 10,
   "id": "829b14f2",
   "metadata": {},
   "outputs": [
    {
     "data": {
      "text/plain": [
       "360000"
      ]
     },
     "execution_count": 10,
     "metadata": {},
     "output_type": "execute_result"
    }
   ],
   "source": [
    "np.size(F)"
   ]
  },
  {
   "cell_type": "code",
   "execution_count": 13,
   "id": "1d9dedef",
   "metadata": {},
   "outputs": [],
   "source": [
    "T=F[:,:,3]"
   ]
  },
  {
   "cell_type": "code",
   "execution_count": 21,
   "id": "9ee0a6d7",
   "metadata": {},
   "outputs": [
    {
     "data": {
      "text/plain": [
       "array([[     0,      1,      4, ..., 157609, 158404, 159201],\n",
       "       [     0,      1,      4, ..., 157609, 158404, 159201],\n",
       "       [     0,      1,      4, ..., 157609, 158404, 159201],\n",
       "       ...,\n",
       "       [     0,      1,      4, ..., 157609, 158404, 159201],\n",
       "       [     0,      1,      4, ..., 157609, 158404, 159201],\n",
       "       [     0,      1,      4, ..., 157609, 158404, 159201]])"
      ]
     },
     "execution_count": 21,
     "metadata": {},
     "output_type": "execute_result"
    }
   ],
   "source": [
    "X**2"
   ]
  },
  {
   "cell_type": "code",
   "execution_count": 25,
   "id": "aec2babc",
   "metadata": {},
   "outputs": [
    {
     "data": {
      "text/plain": [
       "1"
      ]
     },
     "execution_count": 25,
     "metadata": {},
     "output_type": "execute_result"
    }
   ],
   "source": [
    "Y[1,100]"
   ]
  },
  {
   "cell_type": "code",
   "execution_count": 26,
   "id": "b0dd0290",
   "metadata": {},
   "outputs": [],
   "source": [
    "\n",
    "w = np.array([4/9] + [1/9]*4 + [1/36]*4)"
   ]
  },
  {
   "cell_type": "code",
   "execution_count": 27,
   "id": "a765d38d",
   "metadata": {},
   "outputs": [
    {
     "data": {
      "text/plain": [
       "array([0.44444444, 0.11111111, 0.11111111, 0.11111111, 0.11111111,\n",
       "       0.02777778, 0.02777778, 0.02777778, 0.02777778])"
      ]
     },
     "execution_count": 27,
     "metadata": {},
     "output_type": "execute_result"
    }
   ],
   "source": [
    "w"
   ]
  },
  {
   "cell_type": "code",
   "execution_count": 28,
   "id": "2424a5a9",
   "metadata": {},
   "outputs": [],
   "source": [
    "A = np.array([[1,2,3,4,5],[6,7,8,9,10]])"
   ]
  },
  {
   "cell_type": "code",
   "execution_count": 37,
   "id": "9e0e1cef",
   "metadata": {},
   "outputs": [
    {
     "data": {
      "text/plain": [
       "array([[1, 2, 3, 4],\n",
       "       [6, 7, 8, 9]])"
      ]
     },
     "execution_count": 37,
     "metadata": {},
     "output_type": "execute_result"
    }
   ],
   "source": [
    "A[:,0:-1:1]"
   ]
  },
  {
   "cell_type": "code",
   "execution_count": 41,
   "id": "b6d13814",
   "metadata": {},
   "outputs": [
    {
     "data": {
      "text/plain": [
       "array([[ 2,  3,  4,  5],\n",
       "       [ 7,  8,  9, 10]])"
      ]
     },
     "execution_count": 41,
     "metadata": {},
     "output_type": "execute_result"
    }
   ],
   "source": [
    "A[:,1::1]"
   ]
  },
  {
   "cell_type": "code",
   "execution_count": null,
   "id": "d3700e75",
   "metadata": {},
   "outputs": [],
   "source": []
  }
 ],
 "metadata": {
  "kernelspec": {
   "display_name": "base",
   "language": "python",
   "name": "python3"
  },
  "language_info": {
   "codemirror_mode": {
    "name": "ipython",
    "version": 3
   },
   "file_extension": ".py",
   "mimetype": "text/x-python",
   "name": "python",
   "nbconvert_exporter": "python",
   "pygments_lexer": "ipython3",
   "version": "3.12.4"
  }
 },
 "nbformat": 4,
 "nbformat_minor": 5
}
